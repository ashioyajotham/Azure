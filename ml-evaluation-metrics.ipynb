{
 "cells": [
  {
   "cell_type": "code",
   "execution_count": 1,
   "id": "a539e1a0",
   "metadata": {
    "_cell_guid": "b1076dfc-b9ad-4769-8c92-a6c4dae69d19",
    "_uuid": "8f2839f25d086af736a60e9eeb907d3b93b6e0e5",
    "execution": {
     "iopub.execute_input": "2022-03-07T11:54:59.283422Z",
     "iopub.status.busy": "2022-03-07T11:54:59.282754Z",
     "iopub.status.idle": "2022-03-07T11:54:59.290753Z",
     "shell.execute_reply": "2022-03-07T11:54:59.291354Z"
    },
    "papermill": {
     "duration": 0.037509,
     "end_time": "2022-03-07T11:54:59.291660",
     "exception": false,
     "start_time": "2022-03-07T11:54:59.254151",
     "status": "completed"
    },
    "tags": []
   },
   "outputs": [
    {
     "name": "stdout",
     "output_type": "stream",
     "text": [
      "/kaggle/input/mlmetrics/ML metrics.png\n"
     ]
    }
   ],
   "source": [
    "# This Python 3 environment comes with many helpful analytics libraries installed\n",
    "# It is defined by the kaggle/python Docker image: https://github.com/kaggle/docker-python\n",
    "# For example, here's several helpful packages to load\n",
    "\n",
    "import numpy as np # linear algebra\n",
    "import pandas as pd # data processing, CSV file I/O (e.g. pd.read_csv)\n",
    "\n",
    "# Input data files are available in the read-only \"../input/\" directory\n",
    "# For example, running this (by clicking run or pressing Shift+Enter) will list all files under the input directory\n",
    "\n",
    "import os\n",
    "for dirname, _, filenames in os.walk('/kaggle/input'):\n",
    "    for filename in filenames:\n",
    "        print(os.path.join(dirname, filename))\n",
    "\n",
    "# You can write up to 20GB to the current directory (/kaggle/working/) that gets preserved as output when you create a version using \"Save & Run All\" \n",
    "# You can also write temporary files to /kaggle/temp/, but they won't be saved outside of the current session"
   ]
  },
  {
   "cell_type": "markdown",
   "id": "8687aa47",
   "metadata": {
    "papermill": {
     "duration": 0.015075,
     "end_time": "2022-03-07T11:54:59.323695",
     "exception": false,
     "start_time": "2022-03-07T11:54:59.308620",
     "status": "completed"
    },
    "tags": []
   },
   "source": [
    "# Regression Metrics"
   ]
  },
  {
   "cell_type": "markdown",
   "id": "38146f92",
   "metadata": {
    "papermill": {
     "duration": 0.014908,
     "end_time": "2022-03-07T11:54:59.354295",
     "exception": false,
     "start_time": "2022-03-07T11:54:59.339387",
     "status": "completed"
    },
    "tags": []
   },
   "source": [
    "![Evaluation Metrics Overview](https://miro.medium.com/max/700/1*8VM2PELQ-oeM0O3ya7BIyQ.png)"
   ]
  },
  {
   "cell_type": "markdown",
   "id": "87db3fab",
   "metadata": {
    "papermill": {
     "duration": 0.014968,
     "end_time": "2022-03-07T11:54:59.384515",
     "exception": false,
     "start_time": "2022-03-07T11:54:59.369547",
     "status": "completed"
    },
    "tags": []
   },
   "source": [
    "Common regression metrics include:\n",
    "* MSPE\n",
    "* MSAE\n",
    "* R Square\n",
    "* Adjusted R Square"
   ]
  },
  {
   "cell_type": "markdown",
   "id": "db0b61c5",
   "metadata": {
    "papermill": {
     "duration": 0.01489,
     "end_time": "2022-03-07T11:54:59.414598",
     "exception": false,
     "start_time": "2022-03-07T11:54:59.399708",
     "status": "completed"
    },
    "tags": []
   },
   "source": [
    "# Root Mean Square Error (RMSE)"
   ]
  },
  {
   "cell_type": "markdown",
   "id": "289d488d",
   "metadata": {
    "papermill": {
     "duration": 0.014805,
     "end_time": "2022-03-07T11:54:59.444778",
     "exception": false,
     "start_time": "2022-03-07T11:54:59.429973",
     "status": "completed"
    },
    "tags": []
   },
   "source": [
    "It represents the sample standard deviation of the differences between predicted values and observed values (called residuals). Mathematically, it is calculated using this formula:\n",
    "  \n",
    "  $$RMSE = {\\sqrt \\frac{1}{n} \\sum_{j=1}^{n} (y_j -{\\hat{y_j})^2}}$$"
   ]
  },
  {
   "cell_type": "markdown",
   "id": "f7cb3559",
   "metadata": {
    "papermill": {
     "duration": 0.014741,
     "end_time": "2022-03-07T11:54:59.474632",
     "exception": false,
     "start_time": "2022-03-07T11:54:59.459891",
     "status": "completed"
    },
    "tags": []
   },
   "source": [
    "# MAE"
   ]
  },
  {
   "cell_type": "markdown",
   "id": "8736876b",
   "metadata": {
    "papermill": {
     "duration": 0.014792,
     "end_time": "2022-03-07T11:54:59.504605",
     "exception": false,
     "start_time": "2022-03-07T11:54:59.489813",
     "status": "completed"
    },
    "tags": []
   },
   "source": [
    "Is the average of the absolute difference between the predicted values and observed value. Mathematically, it is calculated using this formula:\n",
    "\n",
    "$$MAE = \\frac{1}{n} \\sum_{j=1}^{n}|y_j - \\hat y_j|$$"
   ]
  },
  {
   "cell_type": "markdown",
   "id": "7a6695d8",
   "metadata": {
    "papermill": {
     "duration": 0.014774,
     "end_time": "2022-03-07T11:54:59.534341",
     "exception": false,
     "start_time": "2022-03-07T11:54:59.519567",
     "status": "completed"
    },
    "tags": []
   },
   "source": []
  },
  {
   "cell_type": "markdown",
   "id": "7647341d",
   "metadata": {
    "papermill": {
     "duration": 0.014794,
     "end_time": "2022-03-07T11:54:59.564133",
     "exception": false,
     "start_time": "2022-03-07T11:54:59.549339",
     "status": "completed"
    },
    "tags": []
   },
   "source": [
    "# R Squared (R²) and Adjusted R Squared"
   ]
  },
  {
   "cell_type": "markdown",
   "id": "39aea5ee",
   "metadata": {
    "papermill": {
     "duration": 0.01546,
     "end_time": "2022-03-07T11:54:59.596617",
     "exception": false,
     "start_time": "2022-03-07T11:54:59.581157",
     "status": "completed"
    },
    "tags": []
   },
   "source": [
    "R Squared & Adjusted R Squared are often used for explanatory purposes and explains how well your selected independent variable(s) explain the variability in your dependent variable(s). Mathematically, R_Squared is given by:\n",
    "$$\\hat R^2 = 1 - \\frac{\\sum_{i=1}^{n}(Y_i - \\hat Y_i)^2}{\\sum_{i=1}^{n}(Y_i - \\overline Y)^2} = 1 - \\frac{\\frac{1}{n}\\sum_{i=1}^{n}(Y_i - \\hat Y_i)^2}{\\frac{1}{n}\\sum_{i=1}^{n}(Y_i - \\overline Y)^2}$$\n",
    "\n",
    "The numerator is MSE ( average of the squares of the residuals) and the denominator is the variance in Y values. Higher the MSE, smaller the R_squared and poorer is the model."
   ]
  },
  {
   "cell_type": "markdown",
   "id": "32d0a510",
   "metadata": {
    "papermill": {
     "duration": 0.014749,
     "end_time": "2022-03-07T11:54:59.626497",
     "exception": false,
     "start_time": "2022-03-07T11:54:59.611748",
     "status": "completed"
    },
    "tags": []
   },
   "source": [
    "#### Adjusted R²\n",
    "\n",
    "Just like R², adjusted R² also shows how well terms fit a curve or line but adjusts for the number of terms in a model. It is given by below formula:\n",
    "$$R_{adj}^{2} = 1 - [(\\frac{1 - R^2)(n-1)}{n-k-1}]$$\n",
    "\n",
    "where n is the total number of observations and k is the number of predictors. Adjusted R² will always be less than or equal to R²\n"
   ]
  },
  {
   "cell_type": "markdown",
   "id": "f36d13a8",
   "metadata": {
    "papermill": {
     "duration": 0.01558,
     "end_time": "2022-03-07T11:54:59.657696",
     "exception": false,
     "start_time": "2022-03-07T11:54:59.642116",
     "status": "completed"
    },
    "tags": []
   },
   "source": [
    "# Classification Metrics"
   ]
  },
  {
   "cell_type": "markdown",
   "id": "21bcbcde",
   "metadata": {
    "papermill": {
     "duration": 0.015492,
     "end_time": "2022-03-07T11:54:59.689463",
     "exception": false,
     "start_time": "2022-03-07T11:54:59.673971",
     "status": "completed"
    },
    "tags": []
   },
   "source": [
    "### Basics of Confusion Matrix\n",
    "![tried](https://cdn.hackernoon.com/images/BYWRsHWtmGOUC5N4fwNhMqohMAC3-c9c3gxs.png)"
   ]
  },
  {
   "cell_type": "markdown",
   "id": "56967cea",
   "metadata": {
    "papermill": {
     "duration": 0.015955,
     "end_time": "2022-03-07T11:54:59.720878",
     "exception": false,
     "start_time": "2022-03-07T11:54:59.704923",
     "status": "completed"
    },
    "tags": []
   },
   "source": [
    "Definition of terms\n",
    "\n",
    "True Positive (TP): When the actual label is 1, and the classifier also predicted the label to be 1\n",
    "\n",
    "False Positive (FP): When the actual label is 0, but the classifier falsely predicted it to be 1\n",
    "\n",
    "True Negative (TN): When the actual label is 0, and classifier also predicted as 0\n",
    "\n",
    "False Negative (FN): When the actual label is 1, but the classifier predicted the label to be 0"
   ]
  },
  {
   "cell_type": "markdown",
   "id": "f28d755e",
   "metadata": {
    "papermill": {
     "duration": 0.015402,
     "end_time": "2022-03-07T11:54:59.751444",
     "exception": false,
     "start_time": "2022-03-07T11:54:59.736042",
     "status": "completed"
    },
    "tags": []
   },
   "source": [
    "Recall or Sensitivity or TPR (True Positive Rate): Number of items correctly identified as positive out of total true positives- TP/(TP+FN). It answers the question \"When it actually is a positive case, how often is the model correct? Or, What fraction of the positive labels does the model predict correctly?”\n",
    "\n",
    "Specificity or TNR (True Negative Rate): Number of items correctly identified as negative out of total negatives- TN/(TN+FP). It answers the question \"\"When it actually is a negative case, how often is the model correct? Or, What fraction of the negative labels does the model predict correctly?”\n",
    "\n",
    "Precision: Number of items correctly identified as positive out of total items identified as positive- TP/(TP+FP). It answers the question \"When the prediction is positive, how often is it correct?”\n",
    "\n",
    "False Positive Rate or Type I Error: Number of items wrongly identified as positive out of total true negatives- FP/(FP+TN)\n",
    "\n",
    "False Negative Rate or Type II Error: Number of items wrongly identified as negative out of total true positives- FN/(FN+TP). \n",
    "\n",
    "Accuracy: Percentage of total items classified correctly- (TP+TN)/(N+P). “How often is the model correct?”\n",
    "\n",
    "F1-Score: It is a harmonic mean of precision and recall given by- F1 = 2*Precision*Recall/(Precision + Recall)"
   ]
  },
  {
   "cell_type": "markdown",
   "id": "2bad96ea",
   "metadata": {
    "papermill": {
     "duration": 0.01483,
     "end_time": "2022-03-07T11:54:59.781522",
     "exception": false,
     "start_time": "2022-03-07T11:54:59.766692",
     "status": "completed"
    },
    "tags": []
   },
   "source": []
  },
  {
   "cell_type": "markdown",
   "id": "f20a44e6",
   "metadata": {
    "papermill": {
     "duration": 0.014983,
     "end_time": "2022-03-07T11:54:59.811598",
     "exception": false,
     "start_time": "2022-03-07T11:54:59.796615",
     "status": "completed"
    },
    "tags": []
   },
   "source": []
  },
  {
   "cell_type": "markdown",
   "id": "36dd61af",
   "metadata": {
    "papermill": {
     "duration": 0.014708,
     "end_time": "2022-03-07T11:54:59.841447",
     "exception": false,
     "start_time": "2022-03-07T11:54:59.826739",
     "status": "completed"
    },
    "tags": []
   },
   "source": []
  },
  {
   "cell_type": "markdown",
   "id": "91bbd5f5",
   "metadata": {
    "papermill": {
     "duration": 0.015144,
     "end_time": "2022-03-07T11:54:59.872091",
     "exception": false,
     "start_time": "2022-03-07T11:54:59.856947",
     "status": "completed"
    },
    "tags": []
   },
   "source": []
  },
  {
   "cell_type": "markdown",
   "id": "c2e077f8",
   "metadata": {
    "papermill": {
     "duration": 0.015024,
     "end_time": "2022-03-07T11:54:59.902595",
     "exception": false,
     "start_time": "2022-03-07T11:54:59.887571",
     "status": "completed"
    },
    "tags": []
   },
   "source": []
  },
  {
   "cell_type": "markdown",
   "id": "b2ad249d",
   "metadata": {
    "papermill": {
     "duration": 0.014789,
     "end_time": "2022-03-07T11:54:59.933023",
     "exception": false,
     "start_time": "2022-03-07T11:54:59.918234",
     "status": "completed"
    },
    "tags": []
   },
   "source": []
  },
  {
   "cell_type": "markdown",
   "id": "b217b022",
   "metadata": {
    "papermill": {
     "duration": 0.014977,
     "end_time": "2022-03-07T11:54:59.963310",
     "exception": false,
     "start_time": "2022-03-07T11:54:59.948333",
     "status": "completed"
    },
    "tags": []
   },
   "source": []
  }
 ],
 "metadata": {
  "kernelspec": {
   "display_name": "Python 3",
   "language": "python",
   "name": "python3"
  },
  "language_info": {
   "codemirror_mode": {
    "name": "ipython",
    "version": 3
   },
   "file_extension": ".py",
   "mimetype": "text/x-python",
   "name": "python",
   "nbconvert_exporter": "python",
   "pygments_lexer": "ipython3",
   "version": "3.7.12"
  },
  "papermill": {
   "default_parameters": {},
   "duration": 11.7128,
   "end_time": "2022-03-07T11:55:00.589679",
   "environment_variables": {},
   "exception": null,
   "input_path": "__notebook__.ipynb",
   "output_path": "__notebook__.ipynb",
   "parameters": {},
   "start_time": "2022-03-07T11:54:48.876879",
   "version": "2.3.3"
  }
 },
 "nbformat": 4,
 "nbformat_minor": 5
}
