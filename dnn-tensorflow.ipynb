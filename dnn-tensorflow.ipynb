{
 "cells": [
  {
   "cell_type": "code",
   "execution_count": 1,
   "id": "96f4242a",
   "metadata": {
    "_cell_guid": "b1076dfc-b9ad-4769-8c92-a6c4dae69d19",
    "_uuid": "8f2839f25d086af736a60e9eeb907d3b93b6e0e5",
    "execution": {
     "iopub.execute_input": "2022-03-14T09:59:07.427348Z",
     "iopub.status.busy": "2022-03-14T09:59:07.426559Z",
     "iopub.status.idle": "2022-03-14T09:59:07.437208Z",
     "shell.execute_reply": "2022-03-14T09:59:07.437654Z",
     "shell.execute_reply.started": "2022-03-14T09:37:21.763642Z"
    },
    "papermill": {
     "duration": 0.047614,
     "end_time": "2022-03-14T09:59:07.437874",
     "exception": false,
     "start_time": "2022-03-14T09:59:07.390260",
     "status": "completed"
    },
    "tags": []
   },
   "outputs": [
    {
     "name": "stdout",
     "output_type": "stream",
     "text": [
      "/kaggle/input/penguins/penguins.csv\n"
     ]
    }
   ],
   "source": [
    "# This Python 3 environment comes with many helpful analytics libraries installed\n",
    "# It is defined by the kaggle/python Docker image: https://github.com/kaggle/docker-python\n",
    "# For example, here's several helpful packages to load\n",
    "\n",
    "import numpy as np # linear algebra\n",
    "import pandas as pd # data processing, CSV file I/O (e.g. pd.read_csv)\n",
    "\n",
    "# Input data files are available in the read-only \"../input/\" directory\n",
    "# For example, running this (by clicking run or pressing Shift+Enter) will list all files under the input directory\n",
    "\n",
    "import os\n",
    "for dirname, _, filenames in os.walk('/kaggle/input'):\n",
    "    for filename in filenames:\n",
    "        print(os.path.join(dirname, filename))\n",
    "\n",
    "# You can write up to 20GB to the current directory (/kaggle/working/) that gets preserved as output when you create a version using \"Save & Run All\" \n",
    "# You can also write temporary files to /kaggle/temp/, but they won't be saved outside of the current session"
   ]
  },
  {
   "cell_type": "code",
   "execution_count": 2,
   "id": "bcd04e06",
   "metadata": {
    "execution": {
     "iopub.execute_input": "2022-03-14T09:59:07.486178Z",
     "iopub.status.busy": "2022-03-14T09:59:07.485415Z",
     "iopub.status.idle": "2022-03-14T09:59:07.505196Z",
     "shell.execute_reply": "2022-03-14T09:59:07.504720Z",
     "shell.execute_reply.started": "2022-03-14T09:37:21.800965Z"
    },
    "papermill": {
     "duration": 0.045314,
     "end_time": "2022-03-14T09:59:07.505328",
     "exception": false,
     "start_time": "2022-03-14T09:59:07.460014",
     "status": "completed"
    },
    "tags": []
   },
   "outputs": [],
   "source": [
    "import pandas as pd\n",
    "\n",
    "# Load the training dataset excluding null values\n",
    "penguins  = pd.read_csv(\"../input/penguins/penguins.csv\").dropna()\n",
    "\n",
    "# Deep Learning Models work best when features are on a similar scale\n",
    "# we'll just rescale the FlipperLength and BodyMass so they're on a similar scale to the bill measurements\n",
    "penguins['FlipperLength'] = penguins['FlipperLength']/10\n",
    "penguins['BodyMass'] = penguins['BodyMass']/100"
   ]
  },
  {
   "cell_type": "code",
   "execution_count": 3,
   "id": "addf4d01",
   "metadata": {
    "execution": {
     "iopub.execute_input": "2022-03-14T09:59:07.553317Z",
     "iopub.status.busy": "2022-03-14T09:59:07.552704Z",
     "iopub.status.idle": "2022-03-14T09:59:07.571488Z",
     "shell.execute_reply": "2022-03-14T09:59:07.571891Z",
     "shell.execute_reply.started": "2022-03-14T09:37:21.829602Z"
    },
    "papermill": {
     "duration": 0.044815,
     "end_time": "2022-03-14T09:59:07.572022",
     "exception": false,
     "start_time": "2022-03-14T09:59:07.527207",
     "status": "completed"
    },
    "tags": []
   },
   "outputs": [
    {
     "data": {
      "text/html": [
       "<div>\n",
       "<style scoped>\n",
       "    .dataframe tbody tr th:only-of-type {\n",
       "        vertical-align: middle;\n",
       "    }\n",
       "\n",
       "    .dataframe tbody tr th {\n",
       "        vertical-align: top;\n",
       "    }\n",
       "\n",
       "    .dataframe thead th {\n",
       "        text-align: right;\n",
       "    }\n",
       "</style>\n",
       "<table border=\"1\" class=\"dataframe\">\n",
       "  <thead>\n",
       "    <tr style=\"text-align: right;\">\n",
       "      <th></th>\n",
       "      <th>CulmenLength</th>\n",
       "      <th>CulmenDepth</th>\n",
       "      <th>FlipperLength</th>\n",
       "      <th>BodyMass</th>\n",
       "      <th>Species</th>\n",
       "    </tr>\n",
       "  </thead>\n",
       "  <tbody>\n",
       "    <tr>\n",
       "      <th>289</th>\n",
       "      <td>52.0</td>\n",
       "      <td>18.1</td>\n",
       "      <td>20.1</td>\n",
       "      <td>40.5</td>\n",
       "      <td>2</td>\n",
       "    </tr>\n",
       "    <tr>\n",
       "      <th>190</th>\n",
       "      <td>44.0</td>\n",
       "      <td>13.6</td>\n",
       "      <td>20.8</td>\n",
       "      <td>43.5</td>\n",
       "      <td>1</td>\n",
       "    </tr>\n",
       "    <tr>\n",
       "      <th>152</th>\n",
       "      <td>46.1</td>\n",
       "      <td>13.2</td>\n",
       "      <td>21.1</td>\n",
       "      <td>45.0</td>\n",
       "      <td>1</td>\n",
       "    </tr>\n",
       "    <tr>\n",
       "      <th>167</th>\n",
       "      <td>49.3</td>\n",
       "      <td>15.7</td>\n",
       "      <td>21.7</td>\n",
       "      <td>58.5</td>\n",
       "      <td>1</td>\n",
       "    </tr>\n",
       "    <tr>\n",
       "      <th>93</th>\n",
       "      <td>39.6</td>\n",
       "      <td>18.1</td>\n",
       "      <td>18.6</td>\n",
       "      <td>44.5</td>\n",
       "      <td>0</td>\n",
       "    </tr>\n",
       "    <tr>\n",
       "      <th>322</th>\n",
       "      <td>50.1</td>\n",
       "      <td>17.9</td>\n",
       "      <td>19.0</td>\n",
       "      <td>34.0</td>\n",
       "      <td>2</td>\n",
       "    </tr>\n",
       "    <tr>\n",
       "      <th>233</th>\n",
       "      <td>52.5</td>\n",
       "      <td>15.6</td>\n",
       "      <td>22.1</td>\n",
       "      <td>54.5</td>\n",
       "      <td>1</td>\n",
       "    </tr>\n",
       "    <tr>\n",
       "      <th>19</th>\n",
       "      <td>46.0</td>\n",
       "      <td>21.5</td>\n",
       "      <td>19.4</td>\n",
       "      <td>42.0</td>\n",
       "      <td>0</td>\n",
       "    </tr>\n",
       "    <tr>\n",
       "      <th>107</th>\n",
       "      <td>38.2</td>\n",
       "      <td>20.0</td>\n",
       "      <td>19.0</td>\n",
       "      <td>39.0</td>\n",
       "      <td>0</td>\n",
       "    </tr>\n",
       "    <tr>\n",
       "      <th>332</th>\n",
       "      <td>45.2</td>\n",
       "      <td>16.6</td>\n",
       "      <td>19.1</td>\n",
       "      <td>32.5</td>\n",
       "      <td>2</td>\n",
       "    </tr>\n",
       "  </tbody>\n",
       "</table>\n",
       "</div>"
      ],
      "text/plain": [
       "     CulmenLength  CulmenDepth  FlipperLength  BodyMass  Species\n",
       "289          52.0         18.1           20.1      40.5        2\n",
       "190          44.0         13.6           20.8      43.5        1\n",
       "152          46.1         13.2           21.1      45.0        1\n",
       "167          49.3         15.7           21.7      58.5        1\n",
       "93           39.6         18.1           18.6      44.5        0\n",
       "322          50.1         17.9           19.0      34.0        2\n",
       "233          52.5         15.6           22.1      54.5        1\n",
       "19           46.0         21.5           19.4      42.0        0\n",
       "107          38.2         20.0           19.0      39.0        0\n",
       "332          45.2         16.6           19.1      32.5        2"
      ]
     },
     "execution_count": 3,
     "metadata": {},
     "output_type": "execute_result"
    }
   ],
   "source": [
    "# The dataset is too small to be useful for deep learning\n",
    "# So we'll oversample it to increase its size\n",
    "for i in range(1,3):\n",
    "    penguins = penguins.append(penguins)\n",
    "\n",
    "# Display a random sample of 10 observations\n",
    "sample = penguins.sample(10)\n",
    "sample"
   ]
  },
  {
   "cell_type": "markdown",
   "id": "3410535a",
   "metadata": {
    "papermill": {
     "duration": 0.02319,
     "end_time": "2022-03-14T09:59:07.615478",
     "exception": false,
     "start_time": "2022-03-14T09:59:07.592288",
     "status": "completed"
    },
    "tags": []
   },
   "source": [
    "The **Species** column is the label our model will predict. Each label value represents a class of penguin species, encoded as 0, 1, or 2. The following code shows the actual species to which these class labels corrrespond."
   ]
  },
  {
   "cell_type": "code",
   "execution_count": 4,
   "id": "696e9c7c",
   "metadata": {
    "execution": {
     "iopub.execute_input": "2022-03-14T09:59:07.670716Z",
     "iopub.status.busy": "2022-03-14T09:59:07.669816Z",
     "iopub.status.idle": "2022-03-14T09:59:07.684435Z",
     "shell.execute_reply": "2022-03-14T09:59:07.685058Z",
     "shell.execute_reply.started": "2022-03-14T09:37:21.858353Z"
    },
    "papermill": {
     "duration": 0.04667,
     "end_time": "2022-03-14T09:59:07.685240",
     "exception": false,
     "start_time": "2022-03-14T09:59:07.638570",
     "status": "completed"
    },
    "tags": []
   },
   "outputs": [
    {
     "name": "stdout",
     "output_type": "stream",
     "text": [
      "['CulmenLength' 'CulmenDepth' 'FlipperLength' 'BodyMass' 'Species'] SpeciesName\n",
      "[ 43.3 14.0 20.8 45.75 1 ] Gentoo\n",
      "[ 47.8 15.0 21.5 56.5 1 ] Gentoo\n",
      "[ 36.4 17.0 19.5 33.25 0 ] Adelie\n",
      "[ 43.2 18.5 19.2 41.0 0 ] Adelie\n",
      "[ 38.7 19.0 19.5 34.5 0 ] Adelie\n",
      "[ 38.1 17.6 18.7 34.25 0 ] Adelie\n",
      "[ 50.0 15.2 21.8 57.0 1 ] Gentoo\n",
      "[ 47.3 13.8 21.6 47.25 1 ] Gentoo\n",
      "[ 39.6 18.8 19.0 46.0 0 ] Adelie\n",
      "[ 46.4 17.8 19.1 37.0 2 ] Chinstrap\n"
     ]
    }
   ],
   "source": [
    "penguin_classes = ['Adelie', 'Gentoo', 'Chinstrap']\n",
    "print(sample.columns[0:5].values, 'SpeciesName')\n",
    "for index, row in penguins.sample(10).iterrows():\n",
    "    print('[',row[0], row[1], row[2],row[3], int(row[4]), ']',penguin_classes[int(row[-1])])"
   ]
  },
  {
   "cell_type": "markdown",
   "id": "a81b2859",
   "metadata": {
    "papermill": {
     "duration": 0.022454,
     "end_time": "2022-03-14T09:59:07.731419",
     "exception": false,
     "start_time": "2022-03-14T09:59:07.708965",
     "status": "completed"
    },
    "tags": []
   },
   "source": [
    "As is common in a supervised learning problem, we'll split the dataset into a set of records with which to train the model, and a smaller set with which to validate the trained model."
   ]
  },
  {
   "cell_type": "code",
   "execution_count": 5,
   "id": "518d4bd3",
   "metadata": {
    "execution": {
     "iopub.execute_input": "2022-03-14T09:59:07.785800Z",
     "iopub.status.busy": "2022-03-14T09:59:07.784967Z",
     "iopub.status.idle": "2022-03-14T09:59:08.612985Z",
     "shell.execute_reply": "2022-03-14T09:59:08.613805Z",
     "shell.execute_reply.started": "2022-03-14T09:37:21.889421Z"
    },
    "papermill": {
     "duration": 0.858094,
     "end_time": "2022-03-14T09:59:08.613983",
     "exception": false,
     "start_time": "2022-03-14T09:59:07.755889",
     "status": "completed"
    },
    "tags": []
   },
   "outputs": [
    {
     "name": "stdout",
     "output_type": "stream",
     "text": [
      "Training Set: 957, Test Set: 411 \n",
      "\n",
      "Sample of features and labels:\n",
      "[51.1 16.5 22.5 52.5] 1 (Gentoo)\n",
      "[50.7 19.7 20.3 40.5] 2 (Chinstrap)\n",
      "[49.5 16.2 22.9 58. ] 1 (Gentoo)\n",
      "[39.3 20.6 19.  36.5] 0 (Adelie)\n",
      "[42.5 20.7 19.7 45. ] 0 (Adelie)\n",
      "[50.  15.3 22.  55.5] 1 (Gentoo)\n",
      "[50.2  18.7  19.8  37.75] 2 (Chinstrap)\n",
      "[50.7 19.7 20.3 40.5] 2 (Chinstrap)\n",
      "[49.1  14.5  21.2  46.25] 1 (Gentoo)\n",
      "[43.2 16.6 18.7 29. ] 2 (Chinstrap)\n",
      "[38.8  17.6  19.1  32.75] 0 (Adelie)\n",
      "[37.8 17.1 18.6 33. ] 0 (Adelie)\n",
      "[45.8 14.2 21.9 47. ] 1 (Gentoo)\n",
      "[43.8 13.9 20.8 43. ] 1 (Gentoo)\n",
      "[36.  17.1 18.7 37. ] 0 (Adelie)\n",
      "[43.3 13.4 20.9 44. ] 1 (Gentoo)\n",
      "[36.  18.5 18.6 31. ] 0 (Adelie)\n",
      "[41.1  19.   18.2  34.25] 0 (Adelie)\n",
      "[33.1 16.1 17.8 29. ] 0 (Adelie)\n",
      "[40.9 13.7 21.4 46.5] 1 (Gentoo)\n",
      "[45.2 17.8 19.8 39.5] 2 (Chinstrap)\n",
      "[48.4 14.6 21.3 58.5] 1 (Gentoo)\n",
      "[43.6 13.9 21.7 49. ] 1 (Gentoo)\n",
      "[38.5  17.9  19.   33.25] 0 (Adelie)\n"
     ]
    }
   ],
   "source": [
    "from sklearn.model_selection import train_test_split\n",
    "features = ['CulmenLength','CulmenDepth','FlipperLength','BodyMass']\n",
    "label = 'Species'\n",
    "\n",
    "# Split the 70-30% into training and test datasets\n",
    "x_train, x_test, y_train, y_test = train_test_split(penguins[features].values,\n",
    "                                                    penguins[label].values,\n",
    "                                                    test_size = 0.30,\n",
    "                                                    random_state = 0\n",
    "                                                   )\n",
    "\n",
    "print ('Training Set: %d, Test Set: %d \\n' % (len(x_train), len(x_test)))\n",
    "print(\"Sample of features and labels:\")\n",
    "\n",
    "# Take a look at the first 25 training features and corresponding labels\n",
    "for n in range(0, 24):\n",
    "    print(x_train[n], y_train[n], \"(\" + penguin_classes[y_train[n]] + \")\")"
   ]
  },
  {
   "cell_type": "markdown",
   "id": "97cd4b73",
   "metadata": {
    "papermill": {
     "duration": 0.019942,
     "end_time": "2022-03-14T09:59:08.655218",
     "exception": false,
     "start_time": "2022-03-14T09:59:08.635276",
     "status": "completed"
    },
    "tags": []
   },
   "source": [
    "The *features* are the measurements for each penguin observation, and the *label* is a numeric value that indicates the species of penguin that the observation represents (Adelie, Gentoo, or Chinstrap).\n",
    "\n",
    "## Install and import TensorFlow libraries\n",
    "\n",
    "Since we plan to use TensorFlow to create our penguin classifier, we'll need to run the following two cells to install and import the libraries we intend to use.\n",
    "\n",
    "> **Note** *Keras* is an abstraction layer over the base TensorFlow API. In most common machine learning scenarios, you can use Keras to simplify your code."
   ]
  },
  {
   "cell_type": "code",
   "execution_count": 6,
   "id": "13ea425b",
   "metadata": {
    "execution": {
     "iopub.execute_input": "2022-03-14T09:59:08.701808Z",
     "iopub.status.busy": "2022-03-14T09:59:08.700960Z",
     "iopub.status.idle": "2022-03-14T10:00:15.013693Z",
     "shell.execute_reply": "2022-03-14T10:00:15.012469Z",
     "shell.execute_reply.started": "2022-03-14T09:37:22.793448Z"
    },
    "papermill": {
     "duration": 66.338353,
     "end_time": "2022-03-14T10:00:15.013886",
     "exception": false,
     "start_time": "2022-03-14T09:59:08.675533",
     "status": "completed"
    },
    "tags": []
   },
   "outputs": [
    {
     "name": "stdout",
     "output_type": "stream",
     "text": [
      "Requirement already satisfied: tensorflow in /opt/conda/lib/python3.7/site-packages (2.6.2)\r\n",
      "Collecting tensorflow\r\n",
      "  Downloading tensorflow-2.8.0-cp37-cp37m-manylinux2010_x86_64.whl (497.5 MB)\r\n",
      "     |████████████████████████████████| 497.5 MB 21 kB/s              \r\n",
      "\u001b[?25hRequirement already satisfied: termcolor>=1.1.0 in /opt/conda/lib/python3.7/site-packages (from tensorflow) (1.1.0)\r\n",
      "Requirement already satisfied: astunparse>=1.6.0 in /opt/conda/lib/python3.7/site-packages (from tensorflow) (1.6.3)\r\n",
      "Collecting tf-estimator-nightly==2.8.0.dev2021122109\r\n",
      "  Downloading tf_estimator_nightly-2.8.0.dev2021122109-py2.py3-none-any.whl (462 kB)\r\n",
      "     |████████████████████████████████| 462 kB 48.9 MB/s            \r\n",
      "\u001b[?25hRequirement already satisfied: numpy>=1.20 in /opt/conda/lib/python3.7/site-packages (from tensorflow) (1.20.3)\r\n",
      "Requirement already satisfied: google-pasta>=0.1.1 in /opt/conda/lib/python3.7/site-packages (from tensorflow) (0.2.0)\r\n",
      "Requirement already satisfied: absl-py>=0.4.0 in /opt/conda/lib/python3.7/site-packages (from tensorflow) (0.15.0)\r\n",
      "Collecting libclang>=9.0.1\r\n",
      "  Downloading libclang-13.0.0-py2.py3-none-manylinux1_x86_64.whl (14.5 MB)\r\n",
      "     |████████████████████████████████| 14.5 MB 47.2 MB/s            \r\n",
      "\u001b[?25hRequirement already satisfied: grpcio<2.0,>=1.24.3 in /opt/conda/lib/python3.7/site-packages (from tensorflow) (1.43.0)\r\n",
      "Requirement already satisfied: keras-preprocessing>=1.1.1 in /opt/conda/lib/python3.7/site-packages (from tensorflow) (1.1.2)\r\n",
      "Requirement already satisfied: h5py>=2.9.0 in /opt/conda/lib/python3.7/site-packages (from tensorflow) (3.1.0)\r\n",
      "Collecting tensorflow-io-gcs-filesystem>=0.23.1\r\n",
      "  Downloading tensorflow_io_gcs_filesystem-0.24.0-cp37-cp37m-manylinux_2_12_x86_64.manylinux2010_x86_64.whl (2.1 MB)\r\n",
      "     |████████████████████████████████| 2.1 MB 47.0 MB/s            \r\n",
      "\u001b[?25hRequirement already satisfied: six>=1.12.0 in /opt/conda/lib/python3.7/site-packages (from tensorflow) (1.16.0)\r\n",
      "Requirement already satisfied: gast>=0.2.1 in /opt/conda/lib/python3.7/site-packages (from tensorflow) (0.4.0)\r\n",
      "Requirement already satisfied: typing-extensions>=3.6.6 in /opt/conda/lib/python3.7/site-packages (from tensorflow) (4.1.1)\r\n",
      "Requirement already satisfied: wrapt>=1.11.0 in /opt/conda/lib/python3.7/site-packages (from tensorflow) (1.13.3)\r\n",
      "Collecting keras<2.9,>=2.8.0rc0\r\n",
      "  Downloading keras-2.8.0-py2.py3-none-any.whl (1.4 MB)\r\n",
      "     |████████████████████████████████| 1.4 MB 40.0 MB/s            \r\n",
      "\u001b[?25hCollecting tensorboard<2.9,>=2.8\r\n",
      "  Downloading tensorboard-2.8.0-py3-none-any.whl (5.8 MB)\r\n",
      "     |████████████████████████████████| 5.8 MB 37.9 MB/s            \r\n",
      "\u001b[?25hRequirement already satisfied: protobuf>=3.9.2 in /opt/conda/lib/python3.7/site-packages (from tensorflow) (3.19.1)\r\n",
      "Requirement already satisfied: opt-einsum>=2.3.2 in /opt/conda/lib/python3.7/site-packages (from tensorflow) (3.3.0)\r\n",
      "Requirement already satisfied: flatbuffers>=1.12 in /opt/conda/lib/python3.7/site-packages (from tensorflow) (1.12)\r\n",
      "Requirement already satisfied: setuptools in /opt/conda/lib/python3.7/site-packages (from tensorflow) (59.5.0)\r\n",
      "Requirement already satisfied: wheel<1.0,>=0.23.0 in /opt/conda/lib/python3.7/site-packages (from astunparse>=1.6.0->tensorflow) (0.37.0)\r\n",
      "Requirement already satisfied: cached-property in /opt/conda/lib/python3.7/site-packages (from h5py>=2.9.0->tensorflow) (1.5.2)\r\n",
      "Requirement already satisfied: tensorboard-data-server<0.7.0,>=0.6.0 in /opt/conda/lib/python3.7/site-packages (from tensorboard<2.9,>=2.8->tensorflow) (0.6.1)\r\n",
      "Requirement already satisfied: google-auth<3,>=1.6.3 in /opt/conda/lib/python3.7/site-packages (from tensorboard<2.9,>=2.8->tensorflow) (1.35.0)\r\n",
      "Requirement already satisfied: markdown>=2.6.8 in /opt/conda/lib/python3.7/site-packages (from tensorboard<2.9,>=2.8->tensorflow) (3.3.6)\r\n",
      "Requirement already satisfied: werkzeug>=0.11.15 in /opt/conda/lib/python3.7/site-packages (from tensorboard<2.9,>=2.8->tensorflow) (2.0.2)\r\n",
      "Requirement already satisfied: google-auth-oauthlib<0.5,>=0.4.1 in /opt/conda/lib/python3.7/site-packages (from tensorboard<2.9,>=2.8->tensorflow) (0.4.6)\r\n",
      "Requirement already satisfied: requests<3,>=2.21.0 in /opt/conda/lib/python3.7/site-packages (from tensorboard<2.9,>=2.8->tensorflow) (2.26.0)\r\n",
      "Requirement already satisfied: tensorboard-plugin-wit>=1.6.0 in /opt/conda/lib/python3.7/site-packages (from tensorboard<2.9,>=2.8->tensorflow) (1.8.0)\r\n",
      "Requirement already satisfied: rsa<5,>=3.1.4 in /opt/conda/lib/python3.7/site-packages (from google-auth<3,>=1.6.3->tensorboard<2.9,>=2.8->tensorflow) (4.8)\r\n",
      "Requirement already satisfied: pyasn1-modules>=0.2.1 in /opt/conda/lib/python3.7/site-packages (from google-auth<3,>=1.6.3->tensorboard<2.9,>=2.8->tensorflow) (0.2.7)\r\n",
      "Requirement already satisfied: cachetools<5.0,>=2.0.0 in /opt/conda/lib/python3.7/site-packages (from google-auth<3,>=1.6.3->tensorboard<2.9,>=2.8->tensorflow) (4.2.4)\r\n",
      "Requirement already satisfied: requests-oauthlib>=0.7.0 in /opt/conda/lib/python3.7/site-packages (from google-auth-oauthlib<0.5,>=0.4.1->tensorboard<2.9,>=2.8->tensorflow) (1.3.0)\r\n",
      "Requirement already satisfied: importlib-metadata>=4.4 in /opt/conda/lib/python3.7/site-packages (from markdown>=2.6.8->tensorboard<2.9,>=2.8->tensorflow) (4.11.2)\r\n",
      "Requirement already satisfied: idna<4,>=2.5 in /opt/conda/lib/python3.7/site-packages (from requests<3,>=2.21.0->tensorboard<2.9,>=2.8->tensorflow) (3.1)\r\n",
      "Requirement already satisfied: charset-normalizer~=2.0.0 in /opt/conda/lib/python3.7/site-packages (from requests<3,>=2.21.0->tensorboard<2.9,>=2.8->tensorflow) (2.0.9)\r\n",
      "Requirement already satisfied: certifi>=2017.4.17 in /opt/conda/lib/python3.7/site-packages (from requests<3,>=2.21.0->tensorboard<2.9,>=2.8->tensorflow) (2021.10.8)\r\n",
      "Requirement already satisfied: urllib3<1.27,>=1.21.1 in /opt/conda/lib/python3.7/site-packages (from requests<3,>=2.21.0->tensorboard<2.9,>=2.8->tensorflow) (1.26.7)\r\n",
      "Requirement already satisfied: zipp>=0.5 in /opt/conda/lib/python3.7/site-packages (from importlib-metadata>=4.4->markdown>=2.6.8->tensorboard<2.9,>=2.8->tensorflow) (3.6.0)\r\n",
      "Requirement already satisfied: pyasn1<0.5.0,>=0.4.6 in /opt/conda/lib/python3.7/site-packages (from pyasn1-modules>=0.2.1->google-auth<3,>=1.6.3->tensorboard<2.9,>=2.8->tensorflow) (0.4.8)\r\n",
      "Requirement already satisfied: oauthlib>=3.0.0 in /opt/conda/lib/python3.7/site-packages (from requests-oauthlib>=0.7.0->google-auth-oauthlib<0.5,>=0.4.1->tensorboard<2.9,>=2.8->tensorflow) (3.1.1)\r\n",
      "Installing collected packages: tf-estimator-nightly, tensorflow-io-gcs-filesystem, tensorboard, libclang, keras, tensorflow\r\n",
      "  Attempting uninstall: tensorboard\r\n",
      "    Found existing installation: tensorboard 2.6.0\r\n",
      "    Uninstalling tensorboard-2.6.0:\r\n",
      "      Successfully uninstalled tensorboard-2.6.0\r\n",
      "  Attempting uninstall: keras\r\n",
      "    Found existing installation: keras 2.6.0\r\n",
      "    Uninstalling keras-2.6.0:\r\n",
      "      Successfully uninstalled keras-2.6.0\r\n",
      "  Attempting uninstall: tensorflow\r\n",
      "    Found existing installation: tensorflow 2.6.2\r\n",
      "    Uninstalling tensorflow-2.6.2:\r\n",
      "      Successfully uninstalled tensorflow-2.6.2\r\n",
      "\u001b[31mERROR: pip's dependency resolver does not currently take into account all the packages that are installed. This behaviour is the source of the following dependency conflicts.\r\n",
      "explainable-ai-sdk 1.3.2 requires xai-image-widget, which is not installed.\r\n",
      "tfx-bsl 1.5.0 requires absl-py<0.13,>=0.9, but you have absl-py 0.15.0 which is incompatible.\r\n",
      "tfx-bsl 1.5.0 requires numpy<1.20,>=1.16, but you have numpy 1.20.3 which is incompatible.\r\n",
      "tfx-bsl 1.5.0 requires pyarrow<6,>=1, but you have pyarrow 6.0.1 which is incompatible.\r\n",
      "tensorflow-transform 1.5.0 requires absl-py<0.13,>=0.9, but you have absl-py 0.15.0 which is incompatible.\r\n",
      "tensorflow-transform 1.5.0 requires numpy<1.20,>=1.16, but you have numpy 1.20.3 which is incompatible.\r\n",
      "tensorflow-transform 1.5.0 requires pyarrow<6,>=1, but you have pyarrow 6.0.1 which is incompatible.\r\n",
      "tensorflow-transform 1.5.0 requires tensorflow!=2.0.*,!=2.1.*,!=2.2.*,!=2.3.*,!=2.4.*,!=2.5.*,!=2.6.*,<2.8,>=1.15.2, but you have tensorflow 2.8.0 which is incompatible.\r\n",
      "tensorflow-io 0.21.0 requires tensorflow<2.7.0,>=2.6.0, but you have tensorflow 2.8.0 which is incompatible.\r\n",
      "tensorflow-io 0.21.0 requires tensorflow-io-gcs-filesystem==0.21.0, but you have tensorflow-io-gcs-filesystem 0.24.0 which is incompatible.\u001b[0m\r\n",
      "Successfully installed keras-2.8.0 libclang-13.0.0 tensorboard-2.8.0 tensorflow-2.8.0 tensorflow-io-gcs-filesystem-0.24.0 tf-estimator-nightly-2.8.0.dev2021122109\r\n",
      "\u001b[33mWARNING: Running pip as the 'root' user can result in broken permissions and conflicting behaviour with the system package manager. It is recommended to use a virtual environment instead: https://pip.pypa.io/warnings/venv\u001b[0m\r\n"
     ]
    }
   ],
   "source": [
    "!pip install --upgrade tensorflow"
   ]
  },
  {
   "cell_type": "code",
   "execution_count": 7,
   "id": "9c3c2672",
   "metadata": {
    "execution": {
     "iopub.execute_input": "2022-03-14T10:00:15.595956Z",
     "iopub.status.busy": "2022-03-14T10:00:15.595064Z",
     "iopub.status.idle": "2022-03-14T10:00:18.470472Z",
     "shell.execute_reply": "2022-03-14T10:00:18.469992Z",
     "shell.execute_reply.started": "2022-03-14T09:38:27.097389Z"
    },
    "papermill": {
     "duration": 3.091138,
     "end_time": "2022-03-14T10:00:18.470602",
     "exception": false,
     "start_time": "2022-03-14T10:00:15.379464",
     "status": "completed"
    },
    "tags": []
   },
   "outputs": [
    {
     "name": "stdout",
     "output_type": "stream",
     "text": [
      "Libraries imported.\n",
      "Keras version: 2.8.0\n",
      "TensorFlow version: 2.8.0\n"
     ]
    }
   ],
   "source": [
    "import tensorflow\n",
    "from tensorflow import keras\n",
    "from tensorflow.keras import models\n",
    "from tensorflow.keras.models import Sequential\n",
    "from tensorflow.keras.layers import Dense\n",
    "from tensorflow.keras import utils\n",
    "from tensorflow.keras import optimizers\n",
    "\n",
    "# Set the random seed for reproducability\n",
    "tensorflow.random.set_seed(0)\n",
    "\n",
    "print(\"Libraries imported.\")\n",
    "print('Keras version:',keras.__version__)\n",
    "print('TensorFlow version:',tensorflow.__version__)"
   ]
  },
  {
   "cell_type": "markdown",
   "id": "9283801d",
   "metadata": {
    "papermill": {
     "duration": 0.227857,
     "end_time": "2022-03-14T10:00:18.902835",
     "exception": false,
     "start_time": "2022-03-14T10:00:18.674978",
     "status": "completed"
    },
    "tags": []
   },
   "source": [
    "## Prepare the data for TensorFlow\n",
    "\n",
    "We've already loaded our data and split it into training and validation datasets. However, we need to do some further data preparation so that our data will work correctly with TensorFlow. Specifically, we need to set the data type of our features to 32-bit floating point numbers, and specify that the labels represent categorical classes rather than numeric values."
   ]
  },
  {
   "cell_type": "code",
   "execution_count": 8,
   "id": "a2bc9668",
   "metadata": {
    "execution": {
     "iopub.execute_input": "2022-03-14T10:00:19.351402Z",
     "iopub.status.busy": "2022-03-14T10:00:19.350498Z",
     "iopub.status.idle": "2022-03-14T10:00:19.354100Z",
     "shell.execute_reply": "2022-03-14T10:00:19.354772Z",
     "shell.execute_reply.started": "2022-03-14T09:38:30.267178Z"
    },
    "papermill": {
     "duration": 0.231969,
     "end_time": "2022-03-14T10:00:19.354972",
     "exception": false,
     "start_time": "2022-03-14T10:00:19.123003",
     "status": "completed"
    },
    "tags": []
   },
   "outputs": [
    {
     "name": "stdout",
     "output_type": "stream",
     "text": [
      "Ready...\n"
     ]
    }
   ],
   "source": [
    "# Set data types for float features\n",
    "x_train = x_train.astype('float32')\n",
    "x_test = x_test.astype('float32')\n",
    "\n",
    "# Set the data types for categorical variables\n",
    "y_train = utils.to_categorical(y_train)\n",
    "y_test = utils.to_categorical(y_test)\n",
    "print('Ready...')"
   ]
  },
  {
   "cell_type": "markdown",
   "id": "7e53b42e",
   "metadata": {
    "papermill": {
     "duration": 0.210793,
     "end_time": "2022-03-14T10:00:19.778625",
     "exception": false,
     "start_time": "2022-03-14T10:00:19.567832",
     "status": "completed"
    },
    "tags": []
   },
   "source": [
    "## Define a neural network\n",
    "\n",
    "Now we're ready to define our neural network. In this case, we'll create a network that consists of 3 fully-connected layers:\n",
    "* An input layer that receives an input value for each feature (in this case, the four penguin measurements) and applies a *ReLU* activation function.\n",
    "* A hidden layer that receives ten inputs and applies a *ReLU* activation function.\n",
    "* An output layer that uses a *SoftMax* activation function to generate an output for each penguin species (which represent the classification probabilities for each of the three possible penguin species). Softmax functions produce a vector with probability values that sum to 1."
   ]
  },
  {
   "cell_type": "code",
   "execution_count": 9,
   "id": "afc86f67",
   "metadata": {
    "execution": {
     "iopub.execute_input": "2022-03-14T10:00:20.203086Z",
     "iopub.status.busy": "2022-03-14T10:00:20.200636Z",
     "iopub.status.idle": "2022-03-14T10:00:20.561484Z",
     "shell.execute_reply": "2022-03-14T10:00:20.555278Z",
     "shell.execute_reply.started": "2022-03-14T09:38:30.291576Z"
    },
    "papermill": {
     "duration": 0.57053,
     "end_time": "2022-03-14T10:00:20.561629",
     "exception": false,
     "start_time": "2022-03-14T10:00:19.991099",
     "status": "completed"
    },
    "tags": []
   },
   "outputs": [
    {
     "name": "stderr",
     "output_type": "stream",
     "text": [
      "2022-03-14 10:00:20.316804: W tensorflow/stream_executor/platform/default/dso_loader.cc:64] Could not load dynamic library 'libcusolver.so.11'; dlerror: libcusolver.so.11: cannot open shared object file: No such file or directory; LD_LIBRARY_PATH: /usr/local/cuda/lib64:/usr/local/cuda/lib:/usr/local/lib/x86_64-linux-gnu:/usr/local/nvidia/lib:/usr/local/nvidia/lib64:/usr/local/nvidia/lib:/usr/local/nvidia/lib64\n",
      "2022-03-14 10:00:20.333981: W tensorflow/core/common_runtime/gpu/gpu_device.cc:1850] Cannot dlopen some GPU libraries. Please make sure the missing libraries mentioned above are installed properly if you would like to use GPU. Follow the guide at https://www.tensorflow.org/install/gpu for how to download and setup the required libraries for your platform.\n",
      "Skipping registering GPU devices...\n"
     ]
    },
    {
     "name": "stdout",
     "output_type": "stream",
     "text": [
      "Model: \"sequential\"\n",
      "_________________________________________________________________\n",
      " Layer (type)                Output Shape              Param #   \n",
      "=================================================================\n",
      " dense (Dense)               (None, 10)                50        \n",
      "                                                                 \n",
      " dense_1 (Dense)             (None, 10)                110       \n",
      "                                                                 \n",
      " dense_2 (Dense)             (None, 3)                 33        \n",
      "                                                                 \n",
      "=================================================================\n",
      "Total params: 193\n",
      "Trainable params: 193\n",
      "Non-trainable params: 0\n",
      "_________________________________________________________________\n",
      "None\n"
     ]
    }
   ],
   "source": [
    "# Define a classifier network\n",
    "hl = 10 # Number of hidden layer nodes\n",
    "\n",
    "model = Sequential()\n",
    "model.add(Dense(hl, input_dim=len(features), activation='relu'))\n",
    "model.add(Dense(hl, input_dim=hl, activation='relu'))\n",
    "model.add(Dense(len(penguin_classes), input_dim=hl, activation='softmax'))\n",
    "\n",
    "print(model.summary())"
   ]
  },
  {
   "cell_type": "markdown",
   "id": "7e327c76",
   "metadata": {
    "papermill": {
     "duration": 0.219072,
     "end_time": "2022-03-14T10:00:20.994293",
     "exception": false,
     "start_time": "2022-03-14T10:00:20.775221",
     "status": "completed"
    },
    "tags": []
   },
   "source": [
    "## Train the model\n",
    "\n",
    "To train the model, we need to repeatedly feed the training values forward through the network, use a loss function to calculate the loss, use an optimizer to backpropagate the weight and bias value adjustments, and validate the model using the test data we withheld.\n",
    "\n",
    "To do this, we'll apply an Adam optimizer to a categorical cross-entropy loss function iteratively over 50 epochs."
   ]
  },
  {
   "cell_type": "code",
   "execution_count": 10,
   "id": "cc37ecd8",
   "metadata": {
    "execution": {
     "iopub.execute_input": "2022-03-14T10:00:21.415018Z",
     "iopub.status.busy": "2022-03-14T10:00:21.414179Z",
     "iopub.status.idle": "2022-03-14T10:00:32.492731Z",
     "shell.execute_reply": "2022-03-14T10:00:32.493197Z",
     "shell.execute_reply.started": "2022-03-14T09:42:44.998491Z"
    },
    "papermill": {
     "duration": 11.29186,
     "end_time": "2022-03-14T10:00:32.493359",
     "exception": false,
     "start_time": "2022-03-14T10:00:21.201499",
     "status": "completed"
    },
    "tags": []
   },
   "outputs": [
    {
     "name": "stdout",
     "output_type": "stream",
     "text": [
      "Epoch 1/50\n"
     ]
    },
    {
     "name": "stderr",
     "output_type": "stream",
     "text": [
      "/opt/conda/lib/python3.7/site-packages/keras/optimizer_v2/adam.py:105: UserWarning: The `lr` argument is deprecated, use `learning_rate` instead.\n",
      "  super(Adam, self).__init__(name, **kwargs)\n"
     ]
    },
    {
     "name": "stdout",
     "output_type": "stream",
     "text": [
      "96/96 [==============================] - 1s 3ms/step - loss: 23.8942 - accuracy: 0.1912 - val_loss: 11.2900 - val_accuracy: 0.2165\n",
      "Epoch 2/50\n",
      "96/96 [==============================] - 0s 2ms/step - loss: 5.0865 - accuracy: 0.2142 - val_loss: 1.5626 - val_accuracy: 0.1752\n",
      "Epoch 3/50\n",
      "96/96 [==============================] - 0s 2ms/step - loss: 1.2712 - accuracy: 0.2727 - val_loss: 1.1591 - val_accuracy: 0.3139\n",
      "Epoch 4/50\n",
      "96/96 [==============================] - 0s 2ms/step - loss: 1.1068 - accuracy: 0.3814 - val_loss: 1.0832 - val_accuracy: 0.4453\n",
      "Epoch 5/50\n",
      "96/96 [==============================] - 0s 2ms/step - loss: 1.0432 - accuracy: 0.4598 - val_loss: 1.0545 - val_accuracy: 0.4574\n",
      "Epoch 6/50\n",
      "96/96 [==============================] - 0s 2ms/step - loss: 1.0258 - accuracy: 0.5183 - val_loss: 1.0425 - val_accuracy: 0.4842\n",
      "Epoch 7/50\n",
      "96/96 [==============================] - 0s 2ms/step - loss: 1.0118 - accuracy: 0.5601 - val_loss: 1.0315 - val_accuracy: 0.5547\n",
      "Epoch 8/50\n",
      "96/96 [==============================] - 0s 2ms/step - loss: 1.0008 - accuracy: 0.5998 - val_loss: 1.0189 - val_accuracy: 0.6156\n",
      "Epoch 9/50\n",
      "96/96 [==============================] - 0s 2ms/step - loss: 0.9920 - accuracy: 0.6207 - val_loss: 1.0050 - val_accuracy: 0.6521\n",
      "Epoch 10/50\n",
      "96/96 [==============================] - 0s 2ms/step - loss: 0.9762 - accuracy: 0.6667 - val_loss: 0.9911 - val_accuracy: 0.6618\n",
      "Epoch 11/50\n",
      "96/96 [==============================] - 0s 2ms/step - loss: 0.9639 - accuracy: 0.6949 - val_loss: 0.9781 - val_accuracy: 0.6813\n",
      "Epoch 12/50\n",
      "96/96 [==============================] - 0s 2ms/step - loss: 0.9394 - accuracy: 0.6803 - val_loss: 0.8758 - val_accuracy: 0.6350\n",
      "Epoch 13/50\n",
      "96/96 [==============================] - 0s 2ms/step - loss: 0.7998 - accuracy: 0.7200 - val_loss: 0.7991 - val_accuracy: 0.7129\n",
      "Epoch 14/50\n",
      "96/96 [==============================] - 0s 2ms/step - loss: 0.7341 - accuracy: 0.7450 - val_loss: 0.7380 - val_accuracy: 0.7202\n",
      "Epoch 15/50\n",
      "96/96 [==============================] - 0s 2ms/step - loss: 0.6758 - accuracy: 0.7764 - val_loss: 0.6802 - val_accuracy: 0.7421\n",
      "Epoch 16/50\n",
      "96/96 [==============================] - 0s 2ms/step - loss: 0.6188 - accuracy: 0.7847 - val_loss: 0.6292 - val_accuracy: 0.7470\n",
      "Epoch 17/50\n",
      "96/96 [==============================] - 0s 2ms/step - loss: 0.5758 - accuracy: 0.7973 - val_loss: 0.5871 - val_accuracy: 0.7567\n",
      "Epoch 18/50\n",
      "96/96 [==============================] - 0s 2ms/step - loss: 0.5425 - accuracy: 0.7962 - val_loss: 0.5660 - val_accuracy: 0.7786\n",
      "Epoch 19/50\n",
      "96/96 [==============================] - 0s 3ms/step - loss: 0.4958 - accuracy: 0.8297 - val_loss: 0.5272 - val_accuracy: 0.7786\n",
      "Epoch 20/50\n",
      "96/96 [==============================] - 0s 3ms/step - loss: 0.4662 - accuracy: 0.8213 - val_loss: 0.4849 - val_accuracy: 0.7713\n",
      "Epoch 21/50\n",
      "96/96 [==============================] - 0s 3ms/step - loss: 0.4431 - accuracy: 0.8318 - val_loss: 0.4676 - val_accuracy: 0.7640\n",
      "Epoch 22/50\n",
      "96/96 [==============================] - 0s 2ms/step - loss: 0.4158 - accuracy: 0.8422 - val_loss: 0.4518 - val_accuracy: 0.7689\n",
      "Epoch 23/50\n",
      "96/96 [==============================] - 0s 2ms/step - loss: 0.3913 - accuracy: 0.8527 - val_loss: 0.4383 - val_accuracy: 0.8054\n",
      "Epoch 24/50\n",
      "96/96 [==============================] - 0s 2ms/step - loss: 0.3711 - accuracy: 0.8662 - val_loss: 0.3915 - val_accuracy: 0.8224\n",
      "Epoch 25/50\n",
      "96/96 [==============================] - 0s 2ms/step - loss: 0.3530 - accuracy: 0.8746 - val_loss: 0.3924 - val_accuracy: 0.8808\n",
      "Epoch 26/50\n",
      "96/96 [==============================] - 0s 2ms/step - loss: 0.3328 - accuracy: 0.8934 - val_loss: 0.3521 - val_accuracy: 0.8710\n",
      "Epoch 27/50\n",
      "96/96 [==============================] - 0s 2ms/step - loss: 0.3167 - accuracy: 0.9080 - val_loss: 0.3362 - val_accuracy: 0.8759\n",
      "Epoch 28/50\n",
      "96/96 [==============================] - 0s 2ms/step - loss: 0.3006 - accuracy: 0.9195 - val_loss: 0.3216 - val_accuracy: 0.9002\n",
      "Epoch 29/50\n",
      "96/96 [==============================] - 0s 2ms/step - loss: 0.2822 - accuracy: 0.9310 - val_loss: 0.3074 - val_accuracy: 0.8929\n",
      "Epoch 30/50\n",
      "96/96 [==============================] - 0s 2ms/step - loss: 0.2696 - accuracy: 0.9363 - val_loss: 0.2890 - val_accuracy: 0.9075\n",
      "Epoch 31/50\n",
      "96/96 [==============================] - 0s 2ms/step - loss: 0.2539 - accuracy: 0.9446 - val_loss: 0.2870 - val_accuracy: 0.8662\n",
      "Epoch 32/50\n",
      "96/96 [==============================] - 0s 2ms/step - loss: 0.2422 - accuracy: 0.9394 - val_loss: 0.2752 - val_accuracy: 0.8832\n",
      "Epoch 33/50\n",
      "96/96 [==============================] - 0s 2ms/step - loss: 0.2292 - accuracy: 0.9457 - val_loss: 0.2491 - val_accuracy: 0.9148\n",
      "Epoch 34/50\n",
      "96/96 [==============================] - 0s 2ms/step - loss: 0.2142 - accuracy: 0.9509 - val_loss: 0.2343 - val_accuracy: 0.9367\n",
      "Epoch 35/50\n",
      "96/96 [==============================] - 0s 2ms/step - loss: 0.2034 - accuracy: 0.9530 - val_loss: 0.2233 - val_accuracy: 0.9489\n",
      "Epoch 36/50\n",
      "96/96 [==============================] - 0s 2ms/step - loss: 0.1929 - accuracy: 0.9624 - val_loss: 0.2061 - val_accuracy: 0.9635\n",
      "Epoch 37/50\n",
      "96/96 [==============================] - 0s 2ms/step - loss: 0.1807 - accuracy: 0.9561 - val_loss: 0.2004 - val_accuracy: 0.9562\n",
      "Epoch 38/50\n",
      "96/96 [==============================] - 0s 2ms/step - loss: 0.1724 - accuracy: 0.9655 - val_loss: 0.1851 - val_accuracy: 0.9732\n",
      "Epoch 39/50\n",
      "96/96 [==============================] - 0s 2ms/step - loss: 0.1618 - accuracy: 0.9718 - val_loss: 0.1749 - val_accuracy: 0.9757\n",
      "Epoch 40/50\n",
      "96/96 [==============================] - 0s 2ms/step - loss: 0.1516 - accuracy: 0.9687 - val_loss: 0.1627 - val_accuracy: 0.9684\n",
      "Epoch 41/50\n",
      "96/96 [==============================] - 0s 2ms/step - loss: 0.1430 - accuracy: 0.9707 - val_loss: 0.1555 - val_accuracy: 0.9708\n",
      "Epoch 42/50\n",
      "96/96 [==============================] - 0s 2ms/step - loss: 0.1393 - accuracy: 0.9666 - val_loss: 0.1717 - val_accuracy: 0.9465\n",
      "Epoch 43/50\n",
      "96/96 [==============================] - 0s 2ms/step - loss: 0.1286 - accuracy: 0.9781 - val_loss: 0.1403 - val_accuracy: 0.9805\n",
      "Epoch 44/50\n",
      "96/96 [==============================] - 0s 2ms/step - loss: 0.1235 - accuracy: 0.9749 - val_loss: 0.1313 - val_accuracy: 0.9781\n",
      "Epoch 45/50\n",
      "96/96 [==============================] - 0s 2ms/step - loss: 0.1134 - accuracy: 0.9749 - val_loss: 0.1223 - val_accuracy: 0.9805\n",
      "Epoch 46/50\n",
      "96/96 [==============================] - 0s 2ms/step - loss: 0.1085 - accuracy: 0.9801 - val_loss: 0.1165 - val_accuracy: 0.9830\n",
      "Epoch 47/50\n",
      "96/96 [==============================] - 0s 2ms/step - loss: 0.1034 - accuracy: 0.9833 - val_loss: 0.1173 - val_accuracy: 0.9732\n",
      "Epoch 48/50\n",
      "96/96 [==============================] - 0s 2ms/step - loss: 0.0971 - accuracy: 0.9833 - val_loss: 0.1118 - val_accuracy: 0.9805\n",
      "Epoch 49/50\n",
      "96/96 [==============================] - 0s 2ms/step - loss: 0.0922 - accuracy: 0.9833 - val_loss: 0.1018 - val_accuracy: 0.9830\n",
      "Epoch 50/50\n",
      "96/96 [==============================] - 0s 2ms/step - loss: 0.0894 - accuracy: 0.9822 - val_loss: 0.1046 - val_accuracy: 0.9708\n"
     ]
    }
   ],
   "source": [
    "# hyper-parameters for optimizers\n",
    "learning_rate = 0.001\n",
    "opt = optimizers.Adam(lr = learning_rate)\n",
    "\n",
    "model.compile(loss='categorical_crossentropy',\n",
    "              optimizer=opt,\n",
    "              metrics=['accuracy']\n",
    ")\n",
    "\n",
    "# Train the model over 50 epochs using 10-observation batches and using the test holdout dataset for validation\n",
    "num_epochs = 50\n",
    "history = model.fit(x_train, y_train, epochs=num_epochs, batch_size=10, validation_data=(x_test, y_test))"
   ]
  },
  {
   "cell_type": "markdown",
   "id": "e2999d3d",
   "metadata": {
    "papermill": {
     "duration": 0.285953,
     "end_time": "2022-03-14T10:00:33.079422",
     "exception": false,
     "start_time": "2022-03-14T10:00:32.793469",
     "status": "completed"
    },
    "tags": []
   },
   "source": [
    "## Review training and validation loss\n",
    "​\n",
    "After training is complete, we can examine the loss metrics we recorded while training and validating the model. We're really looking for two things:\n",
    "* The loss should reduce with each epoch, showing that the model is learning the right weights and biases to predict the correct labels.\n",
    "* The training loss and validation loss should follow a similar trend, showing that the model is not overfitting to the training data.\n",
    "​\n",
    "Let's plot the loss metrics and see:"
   ]
  },
  {
   "cell_type": "code",
   "execution_count": 11,
   "id": "e5f49455",
   "metadata": {
    "execution": {
     "iopub.execute_input": "2022-03-14T10:00:33.663502Z",
     "iopub.status.busy": "2022-03-14T10:00:33.662781Z",
     "iopub.status.idle": "2022-03-14T10:00:33.868401Z",
     "shell.execute_reply": "2022-03-14T10:00:33.868884Z",
     "shell.execute_reply.started": "2022-03-14T09:43:02.423285Z"
    },
    "papermill": {
     "duration": 0.50137,
     "end_time": "2022-03-14T10:00:33.869044",
     "exception": false,
     "start_time": "2022-03-14T10:00:33.367674",
     "status": "completed"
    },
    "tags": []
   },
   "outputs": [
    {
     "data": {
      "image/png": "[encoded data removed]",
      "text/plain": [
       "<Figure size 432x288 with 1 Axes>"
      ]
     },
     "metadata": {
      "needs_background": "light"
     },
     "output_type": "display_data"
    }
   ],
   "source": [
    "%matplotlib inline\n",
    "from matplotlib import pyplot as plt\n",
    "\n",
    "epoch_nums = range(1,num_epochs+1)\n",
    "training_loss = history.history[\"loss\"]\n",
    "validation_loss = history.history[\"val_loss\"]\n",
    "plt.plot(epoch_nums, training_loss)\n",
    "plt.plot(epoch_nums, validation_loss)\n",
    "plt.xlabel('epoch')\n",
    "plt.ylabel('loss')\n",
    "plt.legend(['training', 'validation'], loc='upper right')\n",
    "plt.show()"
   ]
  },
  {
   "cell_type": "markdown",
   "id": "922b36c2",
   "metadata": {
    "papermill": {
     "duration": 0.291748,
     "end_time": "2022-03-14T10:00:34.453405",
     "exception": false,
     "start_time": "2022-03-14T10:00:34.161657",
     "status": "completed"
    },
    "tags": []
   },
   "source": [
    "## View the learned weights and biases\n",
    "\n",
    "The trained model consists of the final weights and biases that were determined by the optimizer during training. Based on our network model we should expect the following values for each layer:\n",
    "* Layer 1: There are four input values going to ten output nodes, so there should be 4 x 10 weights and 10 bias values.\n",
    "* Layer 2: There are ten input values going to ten output nodes, so there should be 10 x 10 weights and 10 bias values.\n",
    "* Layer 3: There are ten input values going to three output nodes, so there should be 10 x 3 weights and 3 bias values."
   ]
  },
  {
   "cell_type": "code",
   "execution_count": 12,
   "id": "bcd951f1",
   "metadata": {
    "execution": {
     "iopub.execute_input": "2022-03-14T10:00:35.183418Z",
     "iopub.status.busy": "2022-03-14T10:00:35.182517Z",
     "iopub.status.idle": "2022-03-14T10:00:35.195798Z",
     "shell.execute_reply": "2022-03-14T10:00:35.196443Z",
     "shell.execute_reply.started": "2022-03-14T09:46:35.109488Z"
    },
    "papermill": {
     "duration": 0.454324,
     "end_time": "2022-03-14T10:00:35.196640",
     "exception": false,
     "start_time": "2022-03-14T10:00:34.742316",
     "status": "completed"
    },
    "tags": []
   },
   "outputs": [
    {
     "name": "stdout",
     "output_type": "stream",
     "text": [
      "------------\n",
      "Weights:\n",
      " [[-0.27236846 -0.3841947   0.03324002  0.08020484 -0.10909867  0.05677434\n",
      "  -0.19284697  0.8463785   0.35794362 -0.4905011 ]\n",
      " [ 0.27471453  0.21265197  0.08151422 -0.17707926 -0.10406601  0.80808747\n",
      "   0.34789595 -0.0542803  -0.6077911  -0.5447268 ]\n",
      " [-0.28836262 -0.634329    0.2833845   0.34767175  0.23550075 -0.01212116\n",
      "   0.14559275 -0.79786885 -0.5164286   0.3296095 ]\n",
      " [-0.42851955 -0.24623463 -0.28597653 -0.5230521  -0.43773973  0.36985752\n",
      "  -0.07648171  0.23638247  0.7525387  -0.4691702 ]] \n",
      "Biases:\n",
      " [[-0.27236846 -0.3841947   0.03324002  0.08020484 -0.10909867  0.05677434\n",
      "  -0.19284697  0.8463785   0.35794362 -0.4905011 ]\n",
      " [ 0.27471453  0.21265197  0.08151422 -0.17707926 -0.10406601  0.80808747\n",
      "   0.34789595 -0.0542803  -0.6077911  -0.5447268 ]\n",
      " [-0.28836262 -0.634329    0.2833845   0.34767175  0.23550075 -0.01212116\n",
      "   0.14559275 -0.79786885 -0.5164286   0.3296095 ]\n",
      " [-0.42851955 -0.24623463 -0.28597653 -0.5230521  -0.43773973  0.36985752\n",
      "  -0.07648171  0.23638247  0.7525387  -0.4691702 ]]\n",
      "------------\n",
      "Weights:\n",
      " [[ 0.0607031  -0.30530828  0.39975524  0.3037489   0.15896738  0.03326017\n",
      "  -0.53190327  0.40915883 -0.03316814 -0.1240823 ]\n",
      " [ 0.42301047  0.14984506 -0.54566675  0.3919103  -0.4295466   0.50397205\n",
      "  -0.31616646  0.17803025 -0.41518384 -0.38429344]\n",
      " [ 0.5336163   0.37752342 -0.4694244   0.17206895 -0.04215616  0.5297911\n",
      "   0.4356906   0.28243893  0.26588047 -0.2233491 ]\n",
      " [-0.04491103  0.19579428 -0.26655364  0.17358297  0.3112036   0.53520477\n",
      "  -0.3109483  -0.5284722  -0.00098199 -0.44063687]\n",
      " [ 0.5135      0.39074183  0.39206952 -0.03048635  0.02663547  0.20555359\n",
      "   0.09307003  0.24590033 -0.49007446 -0.2917699 ]\n",
      " [ 0.5036509  -0.3901862   0.6040682   0.29417115 -0.26569188 -0.5313456\n",
      "   0.4142747  -0.15646036  0.00371231 -0.04586926]\n",
      " [ 0.26545775 -0.19090915  0.06543592 -0.30627972  0.12806404 -0.38203925\n",
      "  -0.21518531  0.41642922  0.2622466  -0.49726105]\n",
      " [-0.43842497 -0.21495155 -0.1427082  -0.46094683 -0.20800981  0.3025053\n",
      "  -0.01376541  0.40885374  0.27342093 -0.25861204]\n",
      " [-0.5077288  -0.4176368  -0.24631855 -0.49696004 -0.27225545 -0.38996994\n",
      "  -0.4083916   0.16560255 -0.26306096  0.2282074 ]\n",
      " [ 0.32320213 -0.30822456 -0.37115166  0.45703936 -0.35191107  0.24120325\n",
      "  -0.2000556   0.23292273 -0.33508268 -0.51532805]] \n",
      "Biases:\n",
      " [[ 0.0607031  -0.30530828  0.39975524  0.3037489   0.15896738  0.03326017\n",
      "  -0.53190327  0.40915883 -0.03316814 -0.1240823 ]\n",
      " [ 0.42301047  0.14984506 -0.54566675  0.3919103  -0.4295466   0.50397205\n",
      "  -0.31616646  0.17803025 -0.41518384 -0.38429344]\n",
      " [ 0.5336163   0.37752342 -0.4694244   0.17206895 -0.04215616  0.5297911\n",
      "   0.4356906   0.28243893  0.26588047 -0.2233491 ]\n",
      " [-0.04491103  0.19579428 -0.26655364  0.17358297  0.3112036   0.53520477\n",
      "  -0.3109483  -0.5284722  -0.00098199 -0.44063687]\n",
      " [ 0.5135      0.39074183  0.39206952 -0.03048635  0.02663547  0.20555359\n",
      "   0.09307003  0.24590033 -0.49007446 -0.2917699 ]\n",
      " [ 0.5036509  -0.3901862   0.6040682   0.29417115 -0.26569188 -0.5313456\n",
      "   0.4142747  -0.15646036  0.00371231 -0.04586926]\n",
      " [ 0.26545775 -0.19090915  0.06543592 -0.30627972  0.12806404 -0.38203925\n",
      "  -0.21518531  0.41642922  0.2622466  -0.49726105]\n",
      " [-0.43842497 -0.21495155 -0.1427082  -0.46094683 -0.20800981  0.3025053\n",
      "  -0.01376541  0.40885374  0.27342093 -0.25861204]\n",
      " [-0.5077288  -0.4176368  -0.24631855 -0.49696004 -0.27225545 -0.38996994\n",
      "  -0.4083916   0.16560255 -0.26306096  0.2282074 ]\n",
      " [ 0.32320213 -0.30822456 -0.37115166  0.45703936 -0.35191107  0.24120325\n",
      "  -0.2000556   0.23292273 -0.33508268 -0.51532805]]\n",
      "------------\n",
      "Weights:\n",
      " [[-0.38350686  0.32607827 -0.04719006]\n",
      " [ 0.50995994 -0.12620813 -0.6595991 ]\n",
      " [ 0.53403294  0.02766363 -0.21622904]\n",
      " [ 0.54463303 -0.50025463  0.06109887]\n",
      " [ 0.26757038 -0.67376095 -0.18467396]\n",
      " [ 0.08888024 -0.2536324   0.20257705]\n",
      " [ 1.171345   -1.5687057   0.6411079 ]\n",
      " [-0.49163967  0.38573566  0.19552375]\n",
      " [-0.5256167  -0.34712166  0.68313706]\n",
      " [ 0.6409571  -0.6129823  -0.03113725]] \n",
      "Biases:\n",
      " [[-0.38350686  0.32607827 -0.04719006]\n",
      " [ 0.50995994 -0.12620813 -0.6595991 ]\n",
      " [ 0.53403294  0.02766363 -0.21622904]\n",
      " [ 0.54463303 -0.50025463  0.06109887]\n",
      " [ 0.26757038 -0.67376095 -0.18467396]\n",
      " [ 0.08888024 -0.2536324   0.20257705]\n",
      " [ 1.171345   -1.5687057   0.6411079 ]\n",
      " [-0.49163967  0.38573566  0.19552375]\n",
      " [-0.5256167  -0.34712166  0.68313706]\n",
      " [ 0.6409571  -0.6129823  -0.03113725]]\n"
     ]
    }
   ],
   "source": [
    "for layer in model.layers:\n",
    "    weights = layer.get_weights()[0]\n",
    "    biases = layer.get_weights()[0]\n",
    "    print('------------\\nWeights:\\n',weights,'\\nBiases:\\n', biases)"
   ]
  },
  {
   "cell_type": "markdown",
   "id": "97e3764b",
   "metadata": {
    "papermill": {
     "duration": 0.420567,
     "end_time": "2022-03-14T10:00:36.103580",
     "exception": false,
     "start_time": "2022-03-14T10:00:35.683013",
     "status": "completed"
    },
    "tags": []
   },
   "source": [
    "\n",
    "So, is the model any good? The raw accuracy reported from the validation data would seem to indicate that it predicts pretty well; but it's typically useful to dig a little deeper and compare the predictions for each possible class. A common way to visualize the performance of a classification model is to create a *confusion matrix* that shows a crosstab of correct and incorrect predictions for each class."
   ]
  },
  {
   "cell_type": "code",
   "execution_count": 13,
   "id": "1e2eeb84",
   "metadata": {
    "execution": {
     "iopub.execute_input": "2022-03-14T10:00:36.695295Z",
     "iopub.status.busy": "2022-03-14T10:00:36.694477Z",
     "iopub.status.idle": "2022-03-14T10:00:37.137846Z",
     "shell.execute_reply": "2022-03-14T10:00:37.138619Z",
     "shell.execute_reply.started": "2022-03-14T09:55:46.987667Z"
    },
    "papermill": {
     "duration": 0.745578,
     "end_time": "2022-03-14T10:00:37.138772",
     "exception": false,
     "start_time": "2022-03-14T10:00:36.393194",
     "status": "completed"
    },
    "tags": []
   },
   "outputs": [
    {
     "data": {
      "image/png": "[encoded data removed]",
      "text/plain": [
       "<Figure size 432x288 with 2 Axes>"
      ]
     },
     "metadata": {
      "needs_background": "light"
     },
     "output_type": "display_data"
    }
   ],
   "source": [
    "import numpy as np\n",
    "from sklearn.metrics import confusion_matrix\n",
    "import matplotlib.pyplot as plt\n",
    "%matplotlib inline\n",
    "\n",
    "class_probabilities = model.predict(x_test)\n",
    "predictions = np.argmax(class_probabilities, axis=1)\n",
    "true_labels = np.argmax(y_test, axis=1)\n",
    "\n",
    "# Plot the confusion matrix\n",
    "cm = confusion_matrix(true_labels, predictions)\n",
    "plt.imshow(cm, interpolation=\"nearest\", cmap=plt.cm.Blues)\n",
    "plt.colorbar()\n",
    "tick_marks = np.arange(len(penguin_classes))\n",
    "plt.xticks(tick_marks, penguin_classes, rotation=85)\n",
    "plt.yticks(tick_marks, penguin_classes)\n",
    "plt.xlabel(\"Predicted Species\")\n",
    "plt.ylabel(\"Actual Species\")\n",
    "plt.show()"
   ]
  },
  {
   "cell_type": "markdown",
   "id": "1f89102c",
   "metadata": {
    "papermill": {
     "duration": 0.291187,
     "end_time": "2022-03-14T10:00:37.844287",
     "exception": false,
     "start_time": "2022-03-14T10:00:37.553100",
     "status": "completed"
    },
    "tags": []
   },
   "source": [
    "The confusion matrix should show a strong diagonal line indicating that there are more correct than incorrect predictions for each class.\n",
    "\n",
    "## Save the trained model\n",
    "Now that we have a model we believe is reasonably accurate, we can save its trained weights for use later."
   ]
  },
  {
   "cell_type": "code",
   "execution_count": 14,
   "id": "4c13da47",
   "metadata": {
    "execution": {
     "iopub.execute_input": "2022-03-14T10:00:38.450712Z",
     "iopub.status.busy": "2022-03-14T10:00:38.445973Z",
     "iopub.status.idle": "2022-03-14T10:00:38.471877Z",
     "shell.execute_reply": "2022-03-14T10:00:38.471259Z",
     "shell.execute_reply.started": "2022-03-14T09:57:04.404811Z"
    },
    "papermill": {
     "duration": 0.320614,
     "end_time": "2022-03-14T10:00:38.472039",
     "exception": false,
     "start_time": "2022-03-14T10:00:38.151425",
     "status": "completed"
    },
    "tags": []
   },
   "outputs": [
    {
     "name": "stdout",
     "output_type": "stream",
     "text": [
      "model saved as models/penguin-classifier.h5\n"
     ]
    }
   ],
   "source": [
    "# Save the trained model\n",
    "modelFileName = 'models/penguin-classifier.h5'\n",
    "model.save(modelFileName)\n",
    "del model  # deletes the existing model variable\n",
    "print('model saved as', modelFileName)"
   ]
  },
  {
   "cell_type": "markdown",
   "id": "c9936c51",
   "metadata": {
    "papermill": {
     "duration": 0.291514,
     "end_time": "2022-03-14T10:00:39.054254",
     "exception": false,
     "start_time": "2022-03-14T10:00:38.762740",
     "status": "completed"
    },
    "tags": []
   },
   "source": [
    "## Use the trained model\n",
    "\n",
    "When we have a new penguin observation, we can use the model to predict the species."
   ]
  },
  {
   "cell_type": "code",
   "execution_count": 15,
   "id": "cb0fef58",
   "metadata": {
    "execution": {
     "iopub.execute_input": "2022-03-14T10:00:40.025403Z",
     "iopub.status.busy": "2022-03-14T10:00:40.024437Z",
     "iopub.status.idle": "2022-03-14T10:00:40.186756Z",
     "shell.execute_reply": "2022-03-14T10:00:40.186007Z",
     "shell.execute_reply.started": "2022-03-14T09:57:52.969570Z"
    },
    "papermill": {
     "duration": 0.662325,
     "end_time": "2022-03-14T10:00:40.186887",
     "exception": false,
     "start_time": "2022-03-14T10:00:39.524562",
     "status": "completed"
    },
    "tags": []
   },
   "outputs": [
    {
     "name": "stdout",
     "output_type": "stream",
     "text": [
      "New sample: [[50.4 15.3 20.  50. ]]\n",
      "Gentoo\n"
     ]
    }
   ],
   "source": [
    "# Load the saved model\n",
    "model = models.load_model(modelFileName)\n",
    "\n",
    "# CReate a new array of features\n",
    "x_new = np.array([[50.4,15.3,20,50]])\n",
    "print ('New sample: {}'.format(x_new))\n",
    "\n",
    "# Use the model to predict the class\n",
    "class_probabilities = model.predict(x_new)\n",
    "predictions = np.argmax(class_probabilities, axis=1)\n",
    "\n",
    "print(penguin_classes[predictions[0]])"
   ]
  }
 ],
 "metadata": {
  "kernelspec": {
   "display_name": "Python 3",
   "language": "python",
   "name": "python3"
  },
  "language_info": {
   "codemirror_mode": {
    "name": "ipython",
    "version": 3
   },
   "file_extension": ".py",
   "mimetype": "text/x-python",
   "name": "python",
   "nbconvert_exporter": "python",
   "pygments_lexer": "ipython3",
   "version": "3.7.12"
  },
  "papermill": {
   "default_parameters": {},
   "duration": 104.496896,
   "end_time": "2022-03-14T10:00:43.764446",
   "environment_variables": {},
   "exception": null,
   "input_path": "__notebook__.ipynb",
   "output_path": "__notebook__.ipynb",
   "parameters": {},
   "start_time": "2022-03-14T09:58:59.267550",
   "version": "2.3.3"
  }
 },
 "nbformat": 4,
 "nbformat_minor": 5
}
